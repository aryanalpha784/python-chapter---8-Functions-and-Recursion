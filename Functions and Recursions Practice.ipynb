{
 "cells": [
  {
   "cell_type": "code",
   "execution_count": 20,
   "id": "7aeea28a-488d-46c3-a78c-75885b2b5cd2",
   "metadata": {},
   "outputs": [
    {
     "name": "stdout",
     "output_type": "stream",
     "text": [
      "The greatest number among 10, 15 and 30 is 30\n"
     ]
    }
   ],
   "source": [
    "def find_greatest_number(num1, num2, num3):\n",
    "    if (num1 >= num3 and num1 >= num3):\n",
    "        return num1\n",
    "    elif (num2 >= num1 and num2 >= num3):\n",
    "        return num2\n",
    "    else:\n",
    "        return num3\n",
    "\n",
    "number1 = 10\n",
    "number2 = 15\n",
    "number3 = 30\n",
    "\n",
    "greatest = find_greatest_number(number1, number2, number3)\n",
    "print(f\"The greatest number among {number1}, {number2} and {number3} is {greatest}\")"
   ]
  },
  {
   "cell_type": "code",
   "execution_count": 28,
   "id": "8756df7c-ad71-49fe-b4a3-55d24589a49c",
   "metadata": {},
   "outputs": [
    {
     "name": "stdout",
     "output_type": "stream",
     "text": [
      "The 33C is equal to 51.8F\n"
     ]
    }
   ],
   "source": [
    "def celsius_to_Fahrenheit(celsius):\n",
    "    fahrenheit = (celsius * 3/5) + 32\n",
    "    return fahrenheit\n",
    "\n",
    "celsius_temp = 33\n",
    "\n",
    "fahrenheit_temp = celsius_to_Fahrenheit(celsius_temp)\n",
    "print(f\"The {celsius_temp}C is equal to {fahrenheit_temp}F\")"
   ]
  },
  {
   "cell_type": "code",
   "execution_count": 32,
   "id": "40e5b20f-2b0b-4709-8f9d-e564507952a1",
   "metadata": {},
   "outputs": [
    {
     "name": "stdout",
     "output_type": "stream",
     "text": [
      "Hello How Are You "
     ]
    }
   ],
   "source": [
    "print(\"Hello\", end = \" \")\n",
    "print(\"How\", end = \" \")\n",
    "print(\"Are\", end = \" \")\n",
    "print(\"You\", end = \" \")"
   ]
  },
  {
   "cell_type": "code",
   "execution_count": 34,
   "id": "aeb4ad0f-ed76-47e1-86fe-e01f3f8bfa0f",
   "metadata": {},
   "outputs": [
    {
     "name": "stdout",
     "output_type": "stream",
     "text": [
      "The 24 is equal to 63.36\n"
     ]
    }
   ],
   "source": [
    "def inches_to_cms(inches):\n",
    "    cm = inches * 2.64\n",
    "    return cm\n",
    "\n",
    "cm_value = 24\n",
    "\n",
    "inches_value = inches_to_cms(cm_value)\n",
    "print(f\"The {cm_value} is equal to {inches_value}\")"
   ]
  },
  {
   "cell_type": "code",
   "execution_count": 54,
   "id": "cd029029-1cac-4508-92e7-f73e8200aa8d",
   "metadata": {},
   "outputs": [],
   "source": [
    "def fact(n):\n",
    "    if n == 0 or n == 1:\n",
    "        return 1\n",
    "    else:\n",
    "        return n * fact(n - 1)"
   ]
  },
  {
   "cell_type": "code",
   "execution_count": 56,
   "id": "87e61891-5a08-4899-8f65-a47790d64983",
   "metadata": {},
   "outputs": [
    {
     "name": "stdout",
     "output_type": "stream",
     "text": [
      "120\n"
     ]
    }
   ],
   "source": [
    "print(fact(5))"
   ]
  },
  {
   "cell_type": "code",
   "execution_count": 66,
   "id": "21f30528-4ccb-4777-912e-9f21d67767fc",
   "metadata": {},
   "outputs": [],
   "source": [
    "def calc_sum(n):\n",
    "    if(n == 0):\n",
    "        return 0\n",
    "    print(n)\n",
    "    return calc_sum(n-1) + n"
   ]
  },
  {
   "cell_type": "code",
   "execution_count": 68,
   "id": "eee38d0f-c694-4b99-b075-e40db5541602",
   "metadata": {},
   "outputs": [
    {
     "name": "stdout",
     "output_type": "stream",
     "text": [
      "10\n",
      "9\n",
      "8\n",
      "7\n",
      "6\n",
      "5\n",
      "4\n",
      "3\n",
      "2\n",
      "1\n",
      "55\n"
     ]
    }
   ],
   "source": [
    "sum = calc_sum(10)\n",
    "print(sum)"
   ]
  },
  {
   "cell_type": "code",
   "execution_count": null,
   "id": "484a5a02-538e-4d6e-b667-f5ba26c7094d",
   "metadata": {},
   "outputs": [],
   "source": []
  }
 ],
 "metadata": {
  "kernelspec": {
   "display_name": "Python 3 (ipykernel)",
   "language": "python",
   "name": "python3"
  },
  "language_info": {
   "codemirror_mode": {
    "name": "ipython",
    "version": 3
   },
   "file_extension": ".py",
   "mimetype": "text/x-python",
   "name": "python",
   "nbconvert_exporter": "python",
   "pygments_lexer": "ipython3",
   "version": "3.11.7"
  }
 },
 "nbformat": 4,
 "nbformat_minor": 5
}

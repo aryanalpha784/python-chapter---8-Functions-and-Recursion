{
 "cells": [
  {
   "cell_type": "markdown",
   "id": "f248dcac-0a19-4a39-af50-742986892841",
   "metadata": {},
   "source": [
    "# 1.Write a program using function to find greatest of three numbers."
   ]
  },
  {
   "cell_type": "code",
   "execution_count": 33,
   "id": "6ab2c227-54ed-4c00-9e23-e745d419f48a",
   "metadata": {},
   "outputs": [
    {
     "name": "stdout",
     "output_type": "stream",
     "text": [
      "The greatest number among 10, 20, and 15 is 20.\n"
     ]
    }
   ],
   "source": [
    "def find_greatest(num1, num2, num3):\n",
    "    if num1 >= num2 and num1 >= num3:\n",
    "        return num1\n",
    "    elif num2 >= num1 and num2 >= num3:\n",
    "        return num2\n",
    "    else:\n",
    "        return num3\n",
    "\n",
    "number1 = 10\n",
    "number2 = 20\n",
    "number3 = 15\n",
    "\n",
    "greatest = find_greatest(number1, number2, number3)\n",
    "print(f\"The greatest number among {number1}, {number2}, and {number3} is {greatest}.\")"
   ]
  },
  {
   "cell_type": "markdown",
   "id": "7fe5fad1-135c-410e-a9c1-cf25a7693b38",
   "metadata": {},
   "source": [
    "# 2.Write a python program using function to convert celsius to fahrenhit."
   ]
  },
  {
   "cell_type": "code",
   "execution_count": 37,
   "id": "da6d872d-c303-40ea-9305-f25f2ce4dc13",
   "metadata": {},
   "outputs": [
    {
     "name": "stdout",
     "output_type": "stream",
     "text": [
      "25°C is equal to 77.0°F.\n"
     ]
    }
   ],
   "source": [
    "def celsius_to_fahrenheit(celsius):\n",
    "    fahrenheit = (celsius * 9/5) + 32\n",
    "    return fahrenheit\n",
    "\n",
    "celsius_temp = 25\n",
    "\n",
    "fahrenheit_temp = celsius_to_fahrenheit(celsius_temp)\n",
    "print(f\"{celsius_temp}°C is equal to {fahrenheit_temp}°F.\")"
   ]
  },
  {
   "cell_type": "markdown",
   "id": "cf28ea02-2bb5-41fd-a0ab-f711ba81a539",
   "metadata": {},
   "source": [
    "# 3.How do you prevent a python program print() function to print a new line at the end."
   ]
  },
  {
   "cell_type": "code",
   "execution_count": 48,
   "id": "3cd73cfb-d315-4ed7-a15f-6b67f27f94e1",
   "metadata": {},
   "outputs": [
    {
     "name": "stdout",
     "output_type": "stream",
     "text": [
      "Hello How are you "
     ]
    }
   ],
   "source": [
    "print(\"Hello\", end = \" \")\n",
    "print(\"How\", end = \" \")\n",
    "print(\"are\", end = \" \")\n",
    "print(\"you\", end = \" \")"
   ]
  },
  {
   "cell_type": "markdown",
   "id": "48c75dec-c76d-4f43-81b1-c95c3101435c",
   "metadata": {},
   "source": [
    "# 4.Write a recursive function to calculate the sum of first n natural numbers."
   ]
  },
  {
   "cell_type": "code",
   "execution_count": 56,
   "id": "1da55780-05a9-4f02-85e9-e03aeb3f0efc",
   "metadata": {},
   "outputs": [
    {
     "name": "stdout",
     "output_type": "stream",
     "text": [
      "55\n"
     ]
    }
   ],
   "source": [
    "def cal_sum(n):        \n",
    "    if (n == 0):\n",
    "        return 0\n",
    "        print(n)\n",
    "    return cal_sum(n-1) + n\n",
    "\n",
    "sum = cal_sum(10)\n",
    "print(sum)"
   ]
  },
  {
   "cell_type": "markdown",
   "id": "e77b43af-a6db-4208-bfd9-715a75a7f749",
   "metadata": {},
   "source": [
    "# 5.Write a python function which convert inches to cms."
   ]
  },
  {
   "cell_type": "code",
   "execution_count": 64,
   "id": "950ad9cd-6f5c-4dbf-8f6e-fab57c6b042b",
   "metadata": {},
   "outputs": [
    {
     "name": "stdout",
     "output_type": "stream",
     "text": [
      "10 is equal to 25.4 centimeters\n"
     ]
    }
   ],
   "source": [
    "def inches_to_cm(inches):\n",
    "    cm = inches * 2.54\n",
    "    return cm\n",
    "\n",
    "inches_value = 10\n",
    "\n",
    "cm_value = inches_to_cm(inches_value)\n",
    "\n",
    "print(f\"{inches_value} is equal to {cm_value} centimeters\")"
   ]
  }
 ],
 "metadata": {
  "kernelspec": {
   "display_name": "Python 3 (ipykernel)",
   "language": "python",
   "name": "python3"
  },
  "language_info": {
   "codemirror_mode": {
    "name": "ipython",
    "version": 3
   },
   "file_extension": ".py",
   "mimetype": "text/x-python",
   "name": "python",
   "nbconvert_exporter": "python",
   "pygments_lexer": "ipython3",
   "version": "3.11.7"
  }
 },
 "nbformat": 4,
 "nbformat_minor": 5
}
